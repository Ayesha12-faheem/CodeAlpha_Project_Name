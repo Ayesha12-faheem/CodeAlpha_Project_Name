{
  "nbformat": 4,
  "nbformat_minor": 0,
  "metadata": {
    "colab": {
      "provenance": []
    },
    "kernelspec": {
      "name": "python3",
      "display_name": "Python 3"
    },
    "language_info": {
      "name": "python"
    }
  },
  "cells": [
    {
      "cell_type": "code",
      "execution_count": null,
      "metadata": {
        "colab": {
          "base_uri": "https://localhost:8080/",
          "height": 74
        },
        "id": "KRke52z3xHiv",
        "outputId": "f3564c00-8256-4619-8a88-1d4d1a83929c"
      },
      "outputs": [
        {
          "output_type": "display_data",
          "data": {
            "text/plain": [
              "<IPython.core.display.HTML object>"
            ],
            "text/html": [
              "\n",
              "     <input type=\"file\" id=\"files-453c4412-5e64-43d5-af17-0b73b712df81\" name=\"files[]\" multiple disabled\n",
              "        style=\"border:none\" />\n",
              "     <output id=\"result-453c4412-5e64-43d5-af17-0b73b712df81\">\n",
              "      Upload widget is only available when the cell has been executed in the\n",
              "      current browser session. Please rerun this cell to enable.\n",
              "      </output>\n",
              "      <script>// Copyright 2017 Google LLC\n",
              "//\n",
              "// Licensed under the Apache License, Version 2.0 (the \"License\");\n",
              "// you may not use this file except in compliance with the License.\n",
              "// You may obtain a copy of the License at\n",
              "//\n",
              "//      http://www.apache.org/licenses/LICENSE-2.0\n",
              "//\n",
              "// Unless required by applicable law or agreed to in writing, software\n",
              "// distributed under the License is distributed on an \"AS IS\" BASIS,\n",
              "// WITHOUT WARRANTIES OR CONDITIONS OF ANY KIND, either express or implied.\n",
              "// See the License for the specific language governing permissions and\n",
              "// limitations under the License.\n",
              "\n",
              "/**\n",
              " * @fileoverview Helpers for google.colab Python module.\n",
              " */\n",
              "(function(scope) {\n",
              "function span(text, styleAttributes = {}) {\n",
              "  const element = document.createElement('span');\n",
              "  element.textContent = text;\n",
              "  for (const key of Object.keys(styleAttributes)) {\n",
              "    element.style[key] = styleAttributes[key];\n",
              "  }\n",
              "  return element;\n",
              "}\n",
              "\n",
              "// Max number of bytes which will be uploaded at a time.\n",
              "const MAX_PAYLOAD_SIZE = 100 * 1024;\n",
              "\n",
              "function _uploadFiles(inputId, outputId) {\n",
              "  const steps = uploadFilesStep(inputId, outputId);\n",
              "  const outputElement = document.getElementById(outputId);\n",
              "  // Cache steps on the outputElement to make it available for the next call\n",
              "  // to uploadFilesContinue from Python.\n",
              "  outputElement.steps = steps;\n",
              "\n",
              "  return _uploadFilesContinue(outputId);\n",
              "}\n",
              "\n",
              "// This is roughly an async generator (not supported in the browser yet),\n",
              "// where there are multiple asynchronous steps and the Python side is going\n",
              "// to poll for completion of each step.\n",
              "// This uses a Promise to block the python side on completion of each step,\n",
              "// then passes the result of the previous step as the input to the next step.\n",
              "function _uploadFilesContinue(outputId) {\n",
              "  const outputElement = document.getElementById(outputId);\n",
              "  const steps = outputElement.steps;\n",
              "\n",
              "  const next = steps.next(outputElement.lastPromiseValue);\n",
              "  return Promise.resolve(next.value.promise).then((value) => {\n",
              "    // Cache the last promise value to make it available to the next\n",
              "    // step of the generator.\n",
              "    outputElement.lastPromiseValue = value;\n",
              "    return next.value.response;\n",
              "  });\n",
              "}\n",
              "\n",
              "/**\n",
              " * Generator function which is called between each async step of the upload\n",
              " * process.\n",
              " * @param {string} inputId Element ID of the input file picker element.\n",
              " * @param {string} outputId Element ID of the output display.\n",
              " * @return {!Iterable<!Object>} Iterable of next steps.\n",
              " */\n",
              "function* uploadFilesStep(inputId, outputId) {\n",
              "  const inputElement = document.getElementById(inputId);\n",
              "  inputElement.disabled = false;\n",
              "\n",
              "  const outputElement = document.getElementById(outputId);\n",
              "  outputElement.innerHTML = '';\n",
              "\n",
              "  const pickedPromise = new Promise((resolve) => {\n",
              "    inputElement.addEventListener('change', (e) => {\n",
              "      resolve(e.target.files);\n",
              "    });\n",
              "  });\n",
              "\n",
              "  const cancel = document.createElement('button');\n",
              "  inputElement.parentElement.appendChild(cancel);\n",
              "  cancel.textContent = 'Cancel upload';\n",
              "  const cancelPromise = new Promise((resolve) => {\n",
              "    cancel.onclick = () => {\n",
              "      resolve(null);\n",
              "    };\n",
              "  });\n",
              "\n",
              "  // Wait for the user to pick the files.\n",
              "  const files = yield {\n",
              "    promise: Promise.race([pickedPromise, cancelPromise]),\n",
              "    response: {\n",
              "      action: 'starting',\n",
              "    }\n",
              "  };\n",
              "\n",
              "  cancel.remove();\n",
              "\n",
              "  // Disable the input element since further picks are not allowed.\n",
              "  inputElement.disabled = true;\n",
              "\n",
              "  if (!files) {\n",
              "    return {\n",
              "      response: {\n",
              "        action: 'complete',\n",
              "      }\n",
              "    };\n",
              "  }\n",
              "\n",
              "  for (const file of files) {\n",
              "    const li = document.createElement('li');\n",
              "    li.append(span(file.name, {fontWeight: 'bold'}));\n",
              "    li.append(span(\n",
              "        `(${file.type || 'n/a'}) - ${file.size} bytes, ` +\n",
              "        `last modified: ${\n",
              "            file.lastModifiedDate ? file.lastModifiedDate.toLocaleDateString() :\n",
              "                                    'n/a'} - `));\n",
              "    const percent = span('0% done');\n",
              "    li.appendChild(percent);\n",
              "\n",
              "    outputElement.appendChild(li);\n",
              "\n",
              "    const fileDataPromise = new Promise((resolve) => {\n",
              "      const reader = new FileReader();\n",
              "      reader.onload = (e) => {\n",
              "        resolve(e.target.result);\n",
              "      };\n",
              "      reader.readAsArrayBuffer(file);\n",
              "    });\n",
              "    // Wait for the data to be ready.\n",
              "    let fileData = yield {\n",
              "      promise: fileDataPromise,\n",
              "      response: {\n",
              "        action: 'continue',\n",
              "      }\n",
              "    };\n",
              "\n",
              "    // Use a chunked sending to avoid message size limits. See b/62115660.\n",
              "    let position = 0;\n",
              "    do {\n",
              "      const length = Math.min(fileData.byteLength - position, MAX_PAYLOAD_SIZE);\n",
              "      const chunk = new Uint8Array(fileData, position, length);\n",
              "      position += length;\n",
              "\n",
              "      const base64 = btoa(String.fromCharCode.apply(null, chunk));\n",
              "      yield {\n",
              "        response: {\n",
              "          action: 'append',\n",
              "          file: file.name,\n",
              "          data: base64,\n",
              "        },\n",
              "      };\n",
              "\n",
              "      let percentDone = fileData.byteLength === 0 ?\n",
              "          100 :\n",
              "          Math.round((position / fileData.byteLength) * 100);\n",
              "      percent.textContent = `${percentDone}% done`;\n",
              "\n",
              "    } while (position < fileData.byteLength);\n",
              "  }\n",
              "\n",
              "  // All done.\n",
              "  yield {\n",
              "    response: {\n",
              "      action: 'complete',\n",
              "    }\n",
              "  };\n",
              "}\n",
              "\n",
              "scope.google = scope.google || {};\n",
              "scope.google.colab = scope.google.colab || {};\n",
              "scope.google.colab._files = {\n",
              "  _uploadFiles,\n",
              "  _uploadFilesContinue,\n",
              "};\n",
              "})(self);\n",
              "</script> "
            ]
          },
          "metadata": {}
        },
        {
          "output_type": "stream",
          "name": "stdout",
          "text": [
            "Saving credit_risk_dataset.csv to credit_risk_dataset.csv\n"
          ]
        }
      ],
      "source": [
        "from google.colab import files\n",
        "uploaded = files.upload()"
      ]
    },
    {
      "cell_type": "code",
      "source": [
        "import pandas as pd\n",
        "import numpy as np\n",
        "from sklearn.model_selection import train_test_split\n",
        "from sklearn.preprocessing import StandardScaler, LabelEncoder"
      ],
      "metadata": {
        "id": "T_CBioqhyMAv"
      },
      "execution_count": null,
      "outputs": []
    },
    {
      "cell_type": "code",
      "source": [
        "import pandas as pd\n",
        "\n",
        "# Load the dataset\n",
        "data = pd.read_csv('credit_risk_dataset.csv')\n"
      ],
      "metadata": {
        "id": "amgMSKp4ycK0"
      },
      "execution_count": null,
      "outputs": []
    },
    {
      "cell_type": "code",
      "source": [
        "# Identify numerical columns\n",
        "numerical_columns = ['person_age', 'person_income', 'person_emp_length', 'loan_amnt', 'loan_int_rate', 'loan_percent_income', 'cb_person_cred_hist_length']\n",
        "\n",
        "# Fill missing values with the mean for numerical columns\n",
        "for column in numerical_columns:\n",
        "    data[column].fillna(data[column].mean(), inplace=True)\n"
      ],
      "metadata": {
        "id": "gI29K0QEy-Mw"
      },
      "execution_count": null,
      "outputs": []
    },
    {
      "cell_type": "code",
      "source": [
        "# Check for any remaining missing values\n",
        "missing_values = data.isnull().sum()\n",
        "print(missing_values)\n"
      ],
      "metadata": {
        "colab": {
          "base_uri": "https://localhost:8080/"
        },
        "id": "boNrYoswzEif",
        "outputId": "9c53ef1c-82a3-49d5-ca97-b55eaf429096"
      },
      "execution_count": null,
      "outputs": [
        {
          "output_type": "stream",
          "name": "stdout",
          "text": [
            "person_age                    0\n",
            "person_income                 0\n",
            "person_home_ownership         0\n",
            "person_emp_length             0\n",
            "loan_intent                   0\n",
            "loan_grade                    0\n",
            "loan_amnt                     0\n",
            "loan_int_rate                 0\n",
            "loan_status                   0\n",
            "loan_percent_income           0\n",
            "cb_person_default_on_file     0\n",
            "cb_person_cred_hist_length    0\n",
            "dtype: int64\n"
          ]
        }
      ]
    },
    {
      "cell_type": "code",
      "source": [
        "# Encode categorical variables\n",
        "label_encoder = LabelEncoder()\n",
        "categorical_columns = ['person_home_ownership', 'loan_intent', 'loan_grade', 'cb_person_default_on_file']\n",
        "for column in categorical_columns:\n",
        "    data[column] = label_encoder.fit_transform(data[column])"
      ],
      "metadata": {
        "id": "3nNDum6ezMED"
      },
      "execution_count": null,
      "outputs": []
    },
    {
      "cell_type": "code",
      "source": [
        "# Features and target variable\n",
        "X = data.drop('loan_status', axis=1)  # 'loan_status' is the target variable\n",
        "y = data['loan_status']\n"
      ],
      "metadata": {
        "id": "v8_04KDkzljT"
      },
      "execution_count": null,
      "outputs": []
    },
    {
      "cell_type": "code",
      "source": [
        "# Split the dataset into training and testing sets\n",
        "X_train, X_test, y_train, y_test = train_test_split(X, y, test_size=0.2, random_state=42)"
      ],
      "metadata": {
        "id": "5sraN-ZeztOy"
      },
      "execution_count": null,
      "outputs": []
    },
    {
      "cell_type": "code",
      "source": [
        "# Normalize numerical features\n",
        "scaler = StandardScaler()"
      ],
      "metadata": {
        "id": "B2_H47YqzzTy"
      },
      "execution_count": null,
      "outputs": []
    },
    {
      "cell_type": "code",
      "source": [
        "# Apply normalization to the numerical columns in the training set\n",
        "X_train[numerical_columns] = scaler.fit_transform(X_train[numerical_columns])\n",
        "\n",
        "# Apply normalization to the numerical columns in the testing set\n",
        "X_test[numerical_columns] = scaler.transform(X_test[numerical_columns])"
      ],
      "metadata": {
        "id": "0z-hZ9Woz7Qx"
      },
      "execution_count": null,
      "outputs": []
    },
    {
      "cell_type": "code",
      "source": [
        "# Verify the normalization\n",
        "print(X_train.head())\n",
        "print(X_test.head())"
      ],
      "metadata": {
        "colab": {
          "base_uri": "https://localhost:8080/"
        },
        "id": "RhwEoAfQ0AGY",
        "outputId": "48c9b1ad-cf15-4b4c-e676-75fcb5ba4021"
      },
      "execution_count": null,
      "outputs": [
        {
          "output_type": "stream",
          "name": "stdout",
          "text": [
            "       person_age  person_income  person_home_ownership  person_emp_length  \\\n",
            "32377    5.668518      -0.317177                      3          -0.687841   \n",
            "1338    -0.276062      -0.631652                      2          -1.181394   \n",
            "7047    -0.745371      -0.238558                      0          -0.441064   \n",
            "8225    -0.901808      -0.159877                      0           0.299266   \n",
            "7178    -0.588935       0.201707                      3          -0.441064   \n",
            "\n",
            "       loan_intent  loan_grade  loan_amnt  loan_int_rate  loan_percent_income  \\\n",
            "32377            4           2  -0.760189       0.025960            -0.658439   \n",
            "1338             0           4  -0.174341       1.771066             1.491311   \n",
            "7047             4           2   1.013189       0.683630             1.304376   \n",
            "8225             3           0  -0.570184      -1.019150            -0.564971   \n",
            "7178             4           2  -0.411847       0.498050            -0.751906   \n",
            "\n",
            "       cb_person_default_on_file  cb_person_cred_hist_length  \n",
            "32377                          1                    4.484977  \n",
            "1338                           0                   -0.694755  \n",
            "7047                           1                   -0.694755  \n",
            "8225                           0                   -0.448101  \n",
            "7178                           0                   -0.694755  \n",
            "       person_age  person_income  person_home_ownership  person_emp_length  \\\n",
            "14668   -0.588935      -0.600204                      2           0.299266   \n",
            "24614   -0.119626      -0.034150                      3          -1.181394   \n",
            "11096   -0.276062       0.091640                      0           1.286372   \n",
            "10424   -0.745371      -0.600267                      3           0.546042   \n",
            "26007    0.349683      -0.340762                      3          -0.687841   \n",
            "\n",
            "       loan_intent  loan_grade  loan_amnt  loan_int_rate  loan_percent_income  \\\n",
            "14668            2           1   0.063165      -0.208458             1.771713   \n",
            "24614            4           2   0.063165       1.386882            -0.097634   \n",
            "11096            1           3   1.013189       0.000465             0.463170   \n",
            "10424            0           0   0.063165       0.000465             1.771713   \n",
            "26007            3           4   0.538177       1.728740             1.117442   \n",
            "\n",
            "       cb_person_default_on_file  cb_person_cred_hist_length  \n",
            "14668                          0                   -0.941409  \n",
            "24614                          1                    1.031822  \n",
            "11096                          0                   -0.694755  \n",
            "10424                          0                   -0.941409  \n",
            "26007                          0                    0.045207  \n"
          ]
        }
      ]
    },
    {
      "cell_type": "code",
      "source": [
        "# Normalize numerical features\n",
        "scaler = StandardScaler()\n",
        "\n",
        "# Fit and transform the training data, transform the test data\n",
        "X_train_scaled = scaler.fit_transform(X_train[numerical_columns])\n",
        "X_test_scaled = scaler.transform(X_test[numerical_columns])\n",
        "\n",
        "# Convert back to DataFrame to retain structure\n",
        "X_train[numerical_columns] = X_train_scaled\n",
        "X_test[numerical_columns] = X_test_scaled\n",
        "\n",
        "# Verify the normalization\n",
        "print(X_train.head())\n",
        "print(X_test.head())"
      ],
      "metadata": {
        "colab": {
          "base_uri": "https://localhost:8080/"
        },
        "id": "TFM0lMau2mw6",
        "outputId": "7f7affc9-0a08-481c-feed-dc33af6ac4bb"
      },
      "execution_count": null,
      "outputs": [
        {
          "output_type": "stream",
          "name": "stdout",
          "text": [
            "       person_age  person_income  person_home_ownership  person_emp_length  \\\n",
            "32377    5.668518      -0.317177                      3          -0.687841   \n",
            "1338    -0.276062      -0.631652                      2          -1.181394   \n",
            "7047    -0.745371      -0.238558                      0          -0.441064   \n",
            "8225    -0.901808      -0.159877                      0           0.299266   \n",
            "7178    -0.588935       0.201707                      3          -0.441064   \n",
            "\n",
            "       loan_intent  loan_grade  loan_amnt  loan_int_rate  loan_percent_income  \\\n",
            "32377            4           2  -0.760189       0.025960            -0.658439   \n",
            "1338             0           4  -0.174341       1.771066             1.491311   \n",
            "7047             4           2   1.013189       0.683630             1.304376   \n",
            "8225             3           0  -0.570184      -1.019150            -0.564971   \n",
            "7178             4           2  -0.411847       0.498050            -0.751906   \n",
            "\n",
            "       cb_person_default_on_file  cb_person_cred_hist_length  \n",
            "32377                          1                    4.484977  \n",
            "1338                           0                   -0.694755  \n",
            "7047                           1                   -0.694755  \n",
            "8225                           0                   -0.448101  \n",
            "7178                           0                   -0.694755  \n",
            "       person_age  person_income  person_home_ownership  person_emp_length  \\\n",
            "14668   -0.588935      -0.600204                      2           0.299266   \n",
            "24614   -0.119626      -0.034150                      3          -1.181394   \n",
            "11096   -0.276062       0.091640                      0           1.286372   \n",
            "10424   -0.745371      -0.600267                      3           0.546042   \n",
            "26007    0.349683      -0.340762                      3          -0.687841   \n",
            "\n",
            "       loan_intent  loan_grade  loan_amnt  loan_int_rate  loan_percent_income  \\\n",
            "14668            2           1   0.063165      -0.208458             1.771713   \n",
            "24614            4           2   0.063165       1.386882            -0.097634   \n",
            "11096            1           3   1.013189       0.000465             0.463170   \n",
            "10424            0           0   0.063165       0.000465             1.771713   \n",
            "26007            3           4   0.538177       1.728740             1.117442   \n",
            "\n",
            "       cb_person_default_on_file  cb_person_cred_hist_length  \n",
            "14668                          0                   -0.941409  \n",
            "24614                          1                    1.031822  \n",
            "11096                          0                   -0.694755  \n",
            "10424                          0                   -0.941409  \n",
            "26007                          0                    0.045207  \n"
          ]
        }
      ]
    },
    {
      "cell_type": "code",
      "source": [
        "from sklearn.linear_model import LogisticRegression\n",
        "\n",
        "# Train Logistic Regression model\n",
        "logistic_regression = LogisticRegression()\n",
        "logistic_regression.fit(X_train, y_train)\n",
        "\n",
        "# Make predictions\n",
        "y_pred_lr = logistic_regression.predict(X_test)\n"
      ],
      "metadata": {
        "id": "KpKXDvwe3Dze"
      },
      "execution_count": null,
      "outputs": []
    },
    {
      "cell_type": "code",
      "source": [
        "from sklearn.ensemble import RandomForestClassifier\n",
        "\n",
        "# Train Random Forest model\n",
        "random_forest = RandomForestClassifier()\n",
        "random_forest.fit(X_train, y_train)\n",
        "\n",
        "# Make predictions\n",
        "y_pred_rf = random_forest.predict(X_test)\n"
      ],
      "metadata": {
        "id": "0T11VaAC3Nqf"
      },
      "execution_count": null,
      "outputs": []
    },
    {
      "cell_type": "code",
      "source": [
        "from sklearn.metrics import accuracy_score, precision_score, recall_score, f1_score, roc_auc_score\n",
        "\n",
        "# Evaluate models\n",
        "def evaluate_model(y_test, y_pred):\n",
        "    accuracy = accuracy_score(y_test, y_pred)\n",
        "    precision = precision_score(y_test, y_pred)\n",
        "    recall = recall_score(y_test, y_pred)\n",
        "    f1 = f1_score(y_test, y_pred)\n",
        "    roc_auc = roc_auc_score(y_test, y_pred)\n",
        "    return {\n",
        "        'Accuracy': accuracy,\n",
        "        'Precision': precision,\n",
        "        'Recall': recall,\n",
        "        'F1 Score': f1,\n",
        "        'ROC AUC': roc_auc\n",
        "    }\n",
        "\n",
        "# Evaluate Logistic Regression\n",
        "lr_performance = evaluate_model(y_test, y_pred_lr)\n",
        "\n",
        "# Evaluate Random Forest\n",
        "rf_performance = evaluate_model(y_test, y_pred_rf)\n",
        "\n",
        "lr_performance, rf_performance\n"
      ],
      "metadata": {
        "colab": {
          "base_uri": "https://localhost:8080/"
        },
        "id": "o93nQg2Q3S34",
        "outputId": "3f22c7cb-eb47-4a5b-d1f7-0dc3eb33486d"
      },
      "execution_count": null,
      "outputs": [
        {
          "output_type": "execute_result",
          "data": {
            "text/plain": [
              "({'Accuracy': 0.8371950283872948,\n",
              "  'Precision': 0.7162162162162162,\n",
              "  'Recall': 0.4401384083044983,\n",
              "  'F1 Score': 0.5452207458208316,\n",
              "  'ROC AUC': 0.6952269328588737},\n",
              " {'Accuracy': 0.9295688200092067,\n",
              "  'Precision': 0.9624765478424016,\n",
              "  'Recall': 0.7100346020761246,\n",
              "  'F1 Score': 0.8172043010752689,\n",
              "  'ROC AUC': 0.8510740833724472})"
            ]
          },
          "metadata": {},
          "execution_count": 21
        }
      ]
    }
  ]
}